{
 "cells": [
  {
   "cell_type": "code",
   "execution_count": 1,
   "id": "94f6eaa9",
   "metadata": {},
   "outputs": [
    {
     "name": "stdout",
     "output_type": "stream",
     "text": [
      "rootpath = '/home/sh0416/sentence-benchmark'\n"
     ]
    }
   ],
   "source": [
    "import os\n",
    "\n",
    "rootpath = os.path.abspath(os.path.join(os.getcwd(), os.path.pardir, os.path.pardir))\n",
    "print(f\"{rootpath = }\")"
   ]
  },
  {
   "cell_type": "code",
   "execution_count": 2,
   "id": "96dde097",
   "metadata": {},
   "outputs": [],
   "source": [
    "import sys\n",
    "\n",
    "sys.path.append(os.path.join(rootpath, \"src\"))"
   ]
  },
  {
   "cell_type": "code",
   "execution_count": 3,
   "id": "18bcc434",
   "metadata": {},
   "outputs": [],
   "source": [
    "from simcse.models import RobertaForTokenContrastiveLearning"
   ]
  },
  {
   "cell_type": "code",
   "execution_count": 4,
   "id": "d663e462",
   "metadata": {},
   "outputs": [
    {
     "name": "stdout",
     "output_type": "stream",
     "text": [
      "checkpoint = '/home/sh0416/sentence-benchmark/result/20210915_125601/checkpoint-1500'\n"
     ]
    },
    {
     "name": "stderr",
     "output_type": "stream",
     "text": [
      "Some weights of the model checkpoint at /home/sh0416/sentence-benchmark/result/20210915_125601/checkpoint-1500 were not used when initializing RobertaForTokenContrastiveLearning: ['lm_head.layer_norm.weight', 'lm_head.decoder.weight', 'lm_head.bias', 'lm_head.dense.weight', 'lm_head.decoder.bias', 'lm_head.dense.bias', 'lm_head.layer_norm.bias']\n",
      "- This IS expected if you are initializing RobertaForTokenContrastiveLearning from the checkpoint of a model trained on another task or with another architecture (e.g. initializing a BertForSequenceClassification model from a BertForPreTraining model).\n",
      "- This IS NOT expected if you are initializing RobertaForTokenContrastiveLearning from the checkpoint of a model that you expect to be exactly identical (initializing a BertForSequenceClassification model from a BertForSequenceClassification model).\n"
     ]
    }
   ],
   "source": [
    "checkpoint = os.path.join(rootpath, \"result/20210915_125601/checkpoint-1500\")\n",
    "# checkpoint = \"princeton-nlp/unsup-simcse-roberta-base\"\n",
    "print(f\"{checkpoint = }\")\n",
    "model = RobertaForTokenContrastiveLearning.from_pretrained(\n",
    "    checkpoint, loss_mlm=False, temp=0.05\n",
    ")"
   ]
  },
  {
   "cell_type": "code",
   "execution_count": 5,
   "id": "20c7bd39",
   "metadata": {},
   "outputs": [],
   "source": [
    "from transformers import RobertaTokenizer"
   ]
  },
  {
   "cell_type": "code",
   "execution_count": 6,
   "id": "2550433d",
   "metadata": {},
   "outputs": [],
   "source": [
    "tokenizer = RobertaTokenizer.from_pretrained(checkpoint)"
   ]
  },
  {
   "cell_type": "code",
   "execution_count": 7,
   "id": "070e9e1b",
   "metadata": {},
   "outputs": [
    {
     "name": "stdout",
     "output_type": "stream",
     "text": [
      "Example(input=['the problem likely will mean corrective changes before the shuttle fleet starts flying again .', 'he said the problem needs to be corrected before the space shuttle fleet is cleared to fly again .'], score=4.4)\n",
      "{'input_ids1': tensor([[    0,   627,   936,   533,    40,  1266, 31378,  1022,   137,     5,\n",
      "         19463,  7620,  2012,  4731,   456,   479,     2,     1,     1,     1,\n",
      "             1],\n",
      "        [    0,   700,    26,     5,   936,   782,     7,    28, 17261,   137,\n",
      "             5,   980, 19463,  7620,    16,  6049,     7,  3598,   456,   479,\n",
      "             2]]), 'input_ids2': tensor([[    0,   627,   936,   533,    40,  1266, 31378,  1022,   137,     5,\n",
      "         19463,  7620,  2012,  4731,   456,   479,     2,     1,     1,     1,\n",
      "             1],\n",
      "        [    0,   700,    26,     5,   936,   782,     7,    28, 17261,   137,\n",
      "             5,   980, 19463,  7620,    16,  6049,     7,  3598,   456,   479,\n",
      "             2]]), 'attention_mask1': tensor([[1, 1, 1, 1, 1, 1, 1, 1, 1, 1, 1, 1, 1, 1, 1, 1, 1, 0, 0, 0, 0],\n",
      "        [1, 1, 1, 1, 1, 1, 1, 1, 1, 1, 1, 1, 1, 1, 1, 1, 1, 1, 1, 1, 1]]), 'attention_mask2': tensor([[1, 1, 1, 1, 1, 1, 1, 1, 1, 1, 1, 1, 1, 1, 1, 1, 1, 0, 0, 0, 0],\n",
      "        [1, 1, 1, 1, 1, 1, 1, 1, 1, 1, 1, 1, 1, 1, 1, 1, 1, 1, 1, 1, 1]])}\n"
     ]
    }
   ],
   "source": [
    "import csv\n",
    "import itertools\n",
    "from simcse.data.dataset import ContrastiveLearningDataset\n",
    "from torch.utils.data import DataLoader\n",
    "from simcse.data.dataset import collate_fn\n",
    "import functools\n",
    "from sentence_benchmark.data import load_sts12\n",
    "\n",
    "inspection_type = \"test\"\n",
    "\n",
    "if inspection_type == \"train\":\n",
    "    train_path = os.path.join(\n",
    "        rootpath, \"data/wiki1m_for_simcse.txt_bpedropout_0.0_roberta-base.csv\"\n",
    "    )\n",
    "    dataset = ContrastiveLearningDataset(train_path, tokenizer)\n",
    "    loader = DataLoader(\n",
    "        dataset,\n",
    "        batch_size=2,\n",
    "        collate_fn=functools.partial(collate_fn, tokenizer=tokenizer),\n",
    "    )\n",
    "    for x in loader:\n",
    "        break\n",
    "    print(x)\n",
    "else:\n",
    "    filepath = os.path.join(rootpath, \"data/STS/STS12-en-test\")\n",
    "    dataset = load_sts12(filepath)\n",
    "    print(dataset[\"MSRpar\"][0])\n",
    "    example = tokenizer(\n",
    "        [dataset[\"MSRpar\"][0].input[0], dataset[\"MSRpar\"][0].input[1]],\n",
    "        return_tensors=\"pt\",\n",
    "        padding=True,\n",
    "    )\n",
    "    x = {\n",
    "        \"input_ids1\": example[\"input_ids\"],\n",
    "        \"input_ids2\": example[\"input_ids\"],\n",
    "        \"attention_mask1\": example[\"attention_mask\"],\n",
    "        \"attention_mask2\": example[\"attention_mask\"],\n",
    "    }\n",
    "    print(x)"
   ]
  },
  {
   "cell_type": "code",
   "execution_count": 8,
   "id": "d246b536",
   "metadata": {},
   "outputs": [
    {
     "data": {
      "text/plain": [
       "tensor([1., 1.], grad_fn=<DivBackward0>)"
      ]
     },
     "execution_count": 8,
     "metadata": {},
     "output_type": "execute_result"
    }
   ],
   "source": [
    "model.compute_similarity(**x)"
   ]
  },
  {
   "cell_type": "code",
   "execution_count": 9,
   "id": "ccd00389",
   "metadata": {},
   "outputs": [],
   "source": [
    "outputs1, outputs2 = model._compute_representation(**x)"
   ]
  },
  {
   "cell_type": "code",
   "execution_count": 10,
   "id": "e16e6c6c",
   "metadata": {},
   "outputs": [],
   "source": [
    "attention_mask1 = x[\"attention_mask1\"]\n",
    "attention_mask2 = x[\"attention_mask2\"]\n",
    "sim = model._compute_pairwise_similarity(\n",
    "    outputs1[:, None, :, :],\n",
    "    outputs2[None, :, :, :],\n",
    "    attention_mask1[:, None, :],\n",
    "    attention_mask2[None, :, :],\n",
    ")"
   ]
  },
  {
   "cell_type": "code",
   "execution_count": 11,
   "id": "033b3ee5",
   "metadata": {},
   "outputs": [
    {
     "data": {
      "text/plain": [
       "torch.return_types.max(\n",
       "values=tensor([[[1.0000, 1.0000, 1.0000, 1.0000, 1.0000, 1.0000, 1.0000, 1.0000,\n",
       "          1.0000, 1.0000, 1.0000, 1.0000, 1.0000, 1.0000, 1.0000, 1.0000,\n",
       "          1.0000,   -inf,   -inf,   -inf,   -inf],\n",
       "         [0.7496, 0.6306, 0.7486, 0.5794, 0.6093, 0.5928, 0.6471, 0.5989,\n",
       "          0.7397, 0.7043, 0.7842, 0.7526, 0.6374, 0.6991, 0.7225, 0.7451,\n",
       "          0.7188,   -inf,   -inf,   -inf,   -inf]],\n",
       "\n",
       "        [[0.7496, 0.5291, 0.5953, 0.6636, 0.7486, 0.5942, 0.6093, 0.6009,\n",
       "          0.6471, 0.7397, 0.7043, 0.6766, 0.7842, 0.7526, 0.6374, 0.5603,\n",
       "          0.6247, 0.6991, 0.7225, 0.7451, 0.7188],\n",
       "         [1.0000, 1.0000, 1.0000, 1.0000, 1.0000, 1.0000, 1.0000, 1.0000,\n",
       "          1.0000, 1.0000, 1.0000, 1.0000, 1.0000, 1.0000, 1.0000, 1.0000,\n",
       "          1.0000, 1.0000, 1.0000, 1.0000, 1.0000]]], grad_fn=<MaxBackward0>),\n",
       "indices=tensor([[[ 0,  1,  2,  3,  4,  5,  6,  7,  8,  9, 10, 11, 12, 13, 14, 15, 16,\n",
       "           0,  0,  0,  0],\n",
       "         [ 0,  3,  4,  4,  6,  7,  8, 13,  9, 10, 12, 13, 14, 17, 18, 19, 20,\n",
       "           0,  0,  0,  0]],\n",
       "\n",
       "        [[ 0,  1,  2,  9,  2,  4,  4,  9,  6,  8,  9, 10, 10, 11, 12, 13, 13,\n",
       "          13, 14, 15, 16],\n",
       "         [ 0,  1,  2,  3,  4,  5,  6,  7,  8,  9, 10, 11, 12, 13, 14, 15, 16,\n",
       "          17, 18, 19, 20]]]))"
      ]
     },
     "execution_count": 11,
     "metadata": {},
     "output_type": "execute_result"
    }
   ],
   "source": [
    "sim.max(dim=3)"
   ]
  },
  {
   "cell_type": "code",
   "execution_count": 12,
   "id": "914c5ece",
   "metadata": {},
   "outputs": [],
   "source": [
    "import torch.nn.functional as F\n",
    "import matplotlib.pyplot as plt\n",
    "\n",
    "\n",
    "# pairwise = F.cosine_similarity(outputs1[0], outputs2[0, None, :, :], dim=2)"
   ]
  },
  {
   "cell_type": "code",
   "execution_count": 13,
   "id": "c61bd291",
   "metadata": {},
   "outputs": [
    {
     "data": {
      "image/png": "[encoded data removed]",
      "text/plain": [
       "<Figure size 864x864 with 8 Axes>"
      ]
     },
     "metadata": {},
     "output_type": "display_data"
    }
   ],
   "source": [
    "from mpl_toolkits.axes_grid1 import make_axes_locatable\n",
    "\n",
    "fig, axes = plt.subplots(2, 2, figsize=(12, 12))\n",
    "fig.patch.set_facecolor(\"#ffffff\")\n",
    "\n",
    "\n",
    "def plot(x, title, ax):\n",
    "    ax.set_title(title)\n",
    "    im = ax.imshow(x.detach().numpy(), vmin=0, vmax=1)\n",
    "    divider = make_axes_locatable(ax)\n",
    "    cax = divider.append_axes(\"right\", size=\"5%\", pad=0.05)\n",
    "    plt.colorbar(im, cax=cax)\n",
    "\n",
    "\n",
    "plot(sim[0, 0], \"sent1-sent1 similarity\", axes[0, 0])\n",
    "plot(sim[0, 1], \"sent1-sent2 similarity\", axes[0, 1])\n",
    "plot(sim[1, 0], \"sent2-sent1 similarity\", axes[1, 0])\n",
    "plot(sim[1, 1], \"sent2-sent2 similarity\", axes[1, 1])\n",
    "# plt.show()\n",
    "plt.tight_layout()\n",
    "plt.savefig(\n",
    "    f\"3-inspect-model-activation-{os.path.basename(checkpoint)}-{inspection_type}.png\"\n",
    ")"
   ]
  },
  {
   "cell_type": "code",
   "execution_count": null,
   "id": "98076337",
   "metadata": {},
   "outputs": [],
   "source": []
  }
 ],
 "metadata": {
  "kernelspec": {
   "display_name": "Python 3 (ipykernel)",
   "language": "python",
   "name": "python3"
  },
  "language_info": {
   "codemirror_mode": {
    "name": "ipython",
    "version": 3
   },
   "file_extension": ".py",
   "mimetype": "text/x-python",
   "name": "python",
   "nbconvert_exporter": "python",
   "pygments_lexer": "ipython3",
   "version": "3.8.11"
  }
 },
 "nbformat": 4,
 "nbformat_minor": 5
}
