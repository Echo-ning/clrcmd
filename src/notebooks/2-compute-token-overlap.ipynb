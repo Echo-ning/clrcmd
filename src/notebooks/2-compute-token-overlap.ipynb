{
 "cells": [
  {
   "cell_type": "code",
   "execution_count": 1,
   "id": "07b99ad9",
   "metadata": {},
   "outputs": [],
   "source": [
    "import os\n",
    "import sys\n",
    "\n",
    "rootpath = os.path.abspath(os.path.join(os.getcwd(), os.path.pardir, os.path.pardir))\n",
    "sys.path.append(os.path.join(rootpath, \"src\"))"
   ]
  },
  {
   "cell_type": "code",
   "execution_count": 2,
   "id": "1aa8f0fc",
   "metadata": {},
   "outputs": [],
   "source": [
    "from transformers import RobertaTokenizer\n",
    "\n",
    "tokenizer = RobertaTokenizer.from_pretrained(\"roberta-base\")"
   ]
  },
  {
   "cell_type": "code",
   "execution_count": 3,
   "id": "96726f3a",
   "metadata": {},
   "outputs": [],
   "source": [
    "from sentence_benchmark.data import load_sts12"
   ]
  },
  {
   "cell_type": "code",
   "execution_count": 4,
   "id": "1d7d6cf0",
   "metadata": {},
   "outputs": [],
   "source": [
    "sts12 = load_sts12(os.path.join(rootpath, \"data\", \"STS\", \"STS12-en-test\"))"
   ]
  },
  {
   "cell_type": "code",
   "execution_count": 5,
   "id": "40e4c7fc",
   "metadata": {},
   "outputs": [],
   "source": [
    "def preprocess(example):\n",
    "    input_ids = tokenizer(example.input, return_attention_mask=False)[\"input_ids\"]\n",
    "    input_ids1, input_ids2 = input_ids[0], input_ids[1]\n",
    "    return input_ids1, input_ids2, example.score\n",
    "\n",
    "\n",
    "examples = [preprocess(x) for x in sts12[\"MSRpar\"]]"
   ]
  },
  {
   "cell_type": "code",
   "execution_count": 6,
   "id": "d9b8e408",
   "metadata": {},
   "outputs": [],
   "source": [
    "import pandas as pd"
   ]
  },
  {
   "cell_type": "code",
   "execution_count": 7,
   "id": "2b5a32b1",
   "metadata": {},
   "outputs": [],
   "source": [
    "df = pd.DataFrame(examples, columns=[\"input_ids1\", \"input_ids2\", \"score\"])"
   ]
  },
  {
   "cell_type": "code",
   "execution_count": 8,
   "id": "9fae5c4e",
   "metadata": {},
   "outputs": [
    {
     "data": {
      "text/html": [
       "<div>\n",
       "<style scoped>\n",
       "    .dataframe tbody tr th:only-of-type {\n",
       "        vertical-align: middle;\n",
       "    }\n",
       "\n",
       "    .dataframe tbody tr th {\n",
       "        vertical-align: top;\n",
       "    }\n",
       "\n",
       "    .dataframe thead th {\n",
       "        text-align: right;\n",
       "    }\n",
       "</style>\n",
       "<table border=\"1\" class=\"dataframe\">\n",
       "  <thead>\n",
       "    <tr style=\"text-align: right;\">\n",
       "      <th></th>\n",
       "      <th>input_ids1</th>\n",
       "      <th>input_ids2</th>\n",
       "      <th>score</th>\n",
       "    </tr>\n",
       "  </thead>\n",
       "  <tbody>\n",
       "    <tr>\n",
       "      <th>0</th>\n",
       "      <td>[0, 627, 936, 533, 40, 1266, 31378, 1022, 137,...</td>\n",
       "      <td>[0, 700, 26, 5, 936, 782, 7, 28, 17261, 137, 5...</td>\n",
       "      <td>4.4</td>\n",
       "    </tr>\n",
       "    <tr>\n",
       "      <th>1</th>\n",
       "      <td>[0, 627, 806, 12, 462, 8988, 23473, 5946, 1446...</td>\n",
       "      <td>[0, 627, 4007, 2526, 359, 2129, 128, 29, 1764,...</td>\n",
       "      <td>0.8</td>\n",
       "    </tr>\n",
       "    <tr>\n",
       "      <th>2</th>\n",
       "      <td>[0, 113, 24, 128, 29, 10, 1307, 909, 2295, 215...</td>\n",
       "      <td>[0, 113, 24, 128, 29, 10, 1307, 909, 2295, 215...</td>\n",
       "      <td>3.6</td>\n",
       "    </tr>\n",
       "    <tr>\n",
       "      <th>3</th>\n",
       "      <td>[0, 8584, 2243, 40, 6009, 218, 5618, 1478, 26,...</td>\n",
       "      <td>[0, 113, 939, 206, 89, 128, 29, 10, 745, 2123,...</td>\n",
       "      <td>3.4</td>\n",
       "    </tr>\n",
       "    <tr>\n",
       "      <th>4</th>\n",
       "      <td>[0, 705, 1879, 19724, 327, 1367, 112, 4, 466, ...</td>\n",
       "      <td>[0, 179, 92, 1423, 9657, 2156, 748, 1879, 1972...</td>\n",
       "      <td>1.4</td>\n",
       "    </tr>\n",
       "  </tbody>\n",
       "</table>\n",
       "</div>"
      ],
      "text/plain": [
       "                                          input_ids1  \\\n",
       "0  [0, 627, 936, 533, 40, 1266, 31378, 1022, 137,...   \n",
       "1  [0, 627, 806, 12, 462, 8988, 23473, 5946, 1446...   \n",
       "2  [0, 113, 24, 128, 29, 10, 1307, 909, 2295, 215...   \n",
       "3  [0, 8584, 2243, 40, 6009, 218, 5618, 1478, 26,...   \n",
       "4  [0, 705, 1879, 19724, 327, 1367, 112, 4, 466, ...   \n",
       "\n",
       "                                          input_ids2  score  \n",
       "0  [0, 700, 26, 5, 936, 782, 7, 28, 17261, 137, 5...    4.4  \n",
       "1  [0, 627, 4007, 2526, 359, 2129, 128, 29, 1764,...    0.8  \n",
       "2  [0, 113, 24, 128, 29, 10, 1307, 909, 2295, 215...    3.6  \n",
       "3  [0, 113, 939, 206, 89, 128, 29, 10, 745, 2123,...    3.4  \n",
       "4  [0, 179, 92, 1423, 9657, 2156, 748, 1879, 1972...    1.4  "
      ]
     },
     "execution_count": 8,
     "metadata": {},
     "output_type": "execute_result"
    }
   ],
   "source": [
    "df.head()"
   ]
  },
  {
   "cell_type": "code",
   "execution_count": 9,
   "id": "abf0bc1f",
   "metadata": {},
   "outputs": [],
   "source": [
    "def compute_overlap_proportion(row):\n",
    "    input_ids1 = set(row[\"input_ids1\"])\n",
    "    input_ids2 = set(row[\"input_ids2\"])\n",
    "    return len(input_ids1 & input_ids2) / len(input_ids1 | input_ids2)\n",
    "\n",
    "\n",
    "df[\"overlap_proportion\"] = df.apply(compute_overlap_proportion, axis=1)"
   ]
  },
  {
   "cell_type": "code",
   "execution_count": 10,
   "id": "5b139bf6",
   "metadata": {},
   "outputs": [
    {
     "data": {
      "text/plain": [
       "<matplotlib.collections.PathCollection at 0x7fa9f6106fa0>"
      ]
     },
     "execution_count": 10,
     "metadata": {},
     "output_type": "execute_result"
    },
    {
     "data": {
      "image/png": "[encoded data removed]",
      "text/plain": [
       "<Figure size 432x288 with 1 Axes>"
      ]
     },
     "metadata": {
      "needs_background": "light"
     },
     "output_type": "display_data"
    }
   ],
   "source": [
    "import matplotlib.pyplot as plt\n",
    "\n",
    "fig, ax = plt.subplots()\n",
    "ax.scatter(df[\"score\"].tolist(), df[\"overlap_proportion\"].tolist())"
   ]
  },
  {
   "cell_type": "code",
   "execution_count": 18,
   "id": "be2254cd",
   "metadata": {},
   "outputs": [],
   "source": [
    "df_pos = df.reset_index()[df[\"score\"] > 4].sort_values(by=\"overlap_proportion\")"
   ]
  },
  {
   "cell_type": "code",
   "execution_count": 20,
   "id": "142f2b5e",
   "metadata": {},
   "outputs": [
    {
     "data": {
      "text/html": [
       "<div>\n",
       "<style scoped>\n",
       "    .dataframe tbody tr th:only-of-type {\n",
       "        vertical-align: middle;\n",
       "    }\n",
       "\n",
       "    .dataframe tbody tr th {\n",
       "        vertical-align: top;\n",
       "    }\n",
       "\n",
       "    .dataframe thead th {\n",
       "        text-align: right;\n",
       "    }\n",
       "</style>\n",
       "<table border=\"1\" class=\"dataframe\">\n",
       "  <thead>\n",
       "    <tr style=\"text-align: right;\">\n",
       "      <th></th>\n",
       "      <th>input_ids1</th>\n",
       "      <th>input_ids2</th>\n",
       "      <th>score</th>\n",
       "      <th>overlap_proportion</th>\n",
       "    </tr>\n",
       "  </thead>\n",
       "  <tbody>\n",
       "    <tr>\n",
       "      <th>0</th>\n",
       "      <td>[0, 627, 936, 533, 40, 1266, 31378, 1022, 137,...</td>\n",
       "      <td>[0, 700, 26, 5, 936, 782, 7, 28, 17261, 137, 5...</td>\n",
       "      <td>4.4</td>\n",
       "      <td>0.333333</td>\n",
       "    </tr>\n",
       "    <tr>\n",
       "      <th>1</th>\n",
       "      <td>[0, 627, 806, 12, 462, 8988, 23473, 5946, 1446...</td>\n",
       "      <td>[0, 627, 4007, 2526, 359, 2129, 128, 29, 1764,...</td>\n",
       "      <td>0.8</td>\n",
       "      <td>0.309524</td>\n",
       "    </tr>\n",
       "    <tr>\n",
       "      <th>2</th>\n",
       "      <td>[0, 113, 24, 128, 29, 10, 1307, 909, 2295, 215...</td>\n",
       "      <td>[0, 113, 24, 128, 29, 10, 1307, 909, 2295, 215...</td>\n",
       "      <td>3.6</td>\n",
       "      <td>0.600000</td>\n",
       "    </tr>\n",
       "    <tr>\n",
       "      <th>3</th>\n",
       "      <td>[0, 8584, 2243, 40, 6009, 218, 5618, 1478, 26,...</td>\n",
       "      <td>[0, 113, 939, 206, 89, 128, 29, 10, 745, 2123,...</td>\n",
       "      <td>3.4</td>\n",
       "      <td>0.500000</td>\n",
       "    </tr>\n",
       "    <tr>\n",
       "      <th>4</th>\n",
       "      <td>[0, 705, 1879, 19724, 327, 1367, 112, 4, 466, ...</td>\n",
       "      <td>[0, 179, 92, 1423, 9657, 2156, 748, 1879, 1972...</td>\n",
       "      <td>1.4</td>\n",
       "      <td>0.263158</td>\n",
       "    </tr>\n",
       "  </tbody>\n",
       "</table>\n",
       "</div>"
      ],
      "text/plain": [
       "                                          input_ids1  \\\n",
       "0  [0, 627, 936, 533, 40, 1266, 31378, 1022, 137,...   \n",
       "1  [0, 627, 806, 12, 462, 8988, 23473, 5946, 1446...   \n",
       "2  [0, 113, 24, 128, 29, 10, 1307, 909, 2295, 215...   \n",
       "3  [0, 8584, 2243, 40, 6009, 218, 5618, 1478, 26,...   \n",
       "4  [0, 705, 1879, 19724, 327, 1367, 112, 4, 466, ...   \n",
       "\n",
       "                                          input_ids2  score  \\\n",
       "0  [0, 700, 26, 5, 936, 782, 7, 28, 17261, 137, 5...    4.4   \n",
       "1  [0, 627, 4007, 2526, 359, 2129, 128, 29, 1764,...    0.8   \n",
       "2  [0, 113, 24, 128, 29, 10, 1307, 909, 2295, 215...    3.6   \n",
       "3  [0, 113, 939, 206, 89, 128, 29, 10, 745, 2123,...    3.4   \n",
       "4  [0, 179, 92, 1423, 9657, 2156, 748, 1879, 1972...    1.4   \n",
       "\n",
       "   overlap_proportion  \n",
       "0            0.333333  \n",
       "1            0.309524  \n",
       "2            0.600000  \n",
       "3            0.500000  \n",
       "4            0.263158  "
      ]
     },
     "execution_count": 20,
     "metadata": {},
     "output_type": "execute_result"
    }
   ],
   "source": [
    "df.head()"
   ]
  },
  {
   "cell_type": "code",
   "execution_count": 14,
   "id": "54b7bbff",
   "metadata": {},
   "outputs": [
    {
     "data": {
      "text/plain": [
       "'<s>the problem likely will mean corrective changes before the shuttle fleet starts flying again.</s>'"
      ]
     },
     "execution_count": 14,
     "metadata": {},
     "output_type": "execute_result"
    }
   ],
   "source": [
    "tokenizer.decode(df_pos.loc[0, \"input_ids1\"])"
   ]
  },
  {
   "cell_type": "code",
   "execution_count": 15,
   "id": "57e7d8f5",
   "metadata": {},
   "outputs": [
    {
     "data": {
      "text/plain": [
       "'<s>he said the problem needs to be corrected before the space shuttle fleet is cleared to fly again.</s>'"
      ]
     },
     "execution_count": 15,
     "metadata": {},
     "output_type": "execute_result"
    }
   ],
   "source": [
    "tokenizer.decode(df_pos.loc[0, \"input_ids2\"])"
   ]
  },
  {
   "cell_type": "code",
   "execution_count": 21,
   "id": "2bacde24",
   "metadata": {},
   "outputs": [],
   "source": [
    "df_neg = df.reset_index()[df[\"score\"] <= 2].sort_values(\n",
    "    by=\"overlap_proportion\", ascending=False\n",
    ")"
   ]
  },
  {
   "cell_type": "code",
   "execution_count": 22,
   "id": "dd132ba0",
   "metadata": {},
   "outputs": [
    {
     "data": {
      "text/html": [
       "<div>\n",
       "<style scoped>\n",
       "    .dataframe tbody tr th:only-of-type {\n",
       "        vertical-align: middle;\n",
       "    }\n",
       "\n",
       "    .dataframe tbody tr th {\n",
       "        vertical-align: top;\n",
       "    }\n",
       "\n",
       "    .dataframe thead th {\n",
       "        text-align: right;\n",
       "    }\n",
       "</style>\n",
       "<table border=\"1\" class=\"dataframe\">\n",
       "  <thead>\n",
       "    <tr style=\"text-align: right;\">\n",
       "      <th></th>\n",
       "      <th>index</th>\n",
       "      <th>input_ids1</th>\n",
       "      <th>input_ids2</th>\n",
       "      <th>score</th>\n",
       "      <th>overlap_proportion</th>\n",
       "    </tr>\n",
       "  </thead>\n",
       "  <tbody>\n",
       "    <tr>\n",
       "      <th>8</th>\n",
       "      <td>8</td>\n",
       "      <td>[0, 179, 1390, 1446, 11, 2287, 2379, 2156, 666...</td>\n",
       "      <td>[0, 179, 2287, 2379, 2156, 6664, 2389, 128, 29...</td>\n",
       "      <td>2.000</td>\n",
       "      <td>0.750000</td>\n",
       "    </tr>\n",
       "    <tr>\n",
       "      <th>190</th>\n",
       "      <td>190</td>\n",
       "      <td>[0, 113, 24, 128, 29, 164, 7, 1369, 2156, 22, ...</td>\n",
       "      <td>[0, 113, 14, 269, 8561, 5, 451, 2156, 380, 86,...</td>\n",
       "      <td>1.500</td>\n",
       "      <td>0.666667</td>\n",
       "    </tr>\n",
       "    <tr>\n",
       "      <th>215</th>\n",
       "      <td>215</td>\n",
       "      <td>[0, 1193, 5347, 9, 1029, 1071, 58, 62, 231, 32...</td>\n",
       "      <td>[0, 1193, 5347, 9, 1029, 1071, 58, 159, 973, 3...</td>\n",
       "      <td>1.846</td>\n",
       "      <td>0.617647</td>\n",
       "    </tr>\n",
       "    <tr>\n",
       "      <th>159</th>\n",
       "      <td>159</td>\n",
       "      <td>[0, 627, 389, 12, 180, 2175, 201, 541, 10884, ...</td>\n",
       "      <td>[0, 627, 389, 12, 180, 2175, 201, 541, 10884, ...</td>\n",
       "      <td>2.000</td>\n",
       "      <td>0.583333</td>\n",
       "    </tr>\n",
       "    <tr>\n",
       "      <th>135</th>\n",
       "      <td>135</td>\n",
       "      <td>[0, 113, 939, 206, 24, 197, 33, 57, 703, 107, ...</td>\n",
       "      <td>[0, 428, 10713, 4533, 5039, 428, 4894, 2156, 1...</td>\n",
       "      <td>1.750</td>\n",
       "      <td>0.540541</td>\n",
       "    </tr>\n",
       "  </tbody>\n",
       "</table>\n",
       "</div>"
      ],
      "text/plain": [
       "     index                                         input_ids1  \\\n",
       "8        8  [0, 179, 1390, 1446, 11, 2287, 2379, 2156, 666...   \n",
       "190    190  [0, 113, 24, 128, 29, 164, 7, 1369, 2156, 22, ...   \n",
       "215    215  [0, 1193, 5347, 9, 1029, 1071, 58, 62, 231, 32...   \n",
       "159    159  [0, 627, 389, 12, 180, 2175, 201, 541, 10884, ...   \n",
       "135    135  [0, 113, 939, 206, 24, 197, 33, 57, 703, 107, ...   \n",
       "\n",
       "                                            input_ids2  score  \\\n",
       "8    [0, 179, 2287, 2379, 2156, 6664, 2389, 128, 29...  2.000   \n",
       "190  [0, 113, 14, 269, 8561, 5, 451, 2156, 380, 86,...  1.500   \n",
       "215  [0, 1193, 5347, 9, 1029, 1071, 58, 159, 973, 3...  1.846   \n",
       "159  [0, 627, 389, 12, 180, 2175, 201, 541, 10884, ...  2.000   \n",
       "135  [0, 428, 10713, 4533, 5039, 428, 4894, 2156, 1...  1.750   \n",
       "\n",
       "     overlap_proportion  \n",
       "8              0.750000  \n",
       "190            0.666667  \n",
       "215            0.617647  \n",
       "159            0.583333  \n",
       "135            0.540541  "
      ]
     },
     "execution_count": 22,
     "metadata": {},
     "output_type": "execute_result"
    }
   ],
   "source": [
    "df_neg.head()"
   ]
  },
  {
   "cell_type": "code",
   "execution_count": null,
   "id": "8e687c0c",
   "metadata": {},
   "outputs": [],
   "source": []
  }
 ],
 "metadata": {
  "kernelspec": {
   "display_name": "Python 3 (ipykernel)",
   "language": "python",
   "name": "python3"
  },
  "language_info": {
   "codemirror_mode": {
    "name": "ipython",
    "version": 3
   },
   "file_extension": ".py",
   "mimetype": "text/x-python",
   "name": "python",
   "nbconvert_exporter": "python",
   "pygments_lexer": "ipython3",
   "version": "3.8.11"
  }
 },
 "nbformat": 4,
 "nbformat_minor": 5
}
