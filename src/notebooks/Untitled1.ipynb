{
 "cells": [
  {
   "cell_type": "code",
   "execution_count": 1,
   "id": "0c8be906",
   "metadata": {},
   "outputs": [
    {
     "data": {
      "text/plain": [
       "'/home/sh0416/anaconda3/envs/sentence-benchmark/bin/python'"
      ]
     },
     "execution_count": 1,
     "metadata": {},
     "output_type": "execute_result"
    }
   ],
   "source": [
    "import sys\n",
    "sys.executable"
   ]
  },
  {
   "cell_type": "code",
   "execution_count": 7,
   "id": "2909ddb4",
   "metadata": {},
   "outputs": [
    {
     "data": {
      "text/plain": [
       "['/home/sh0416/sentence-benchmark/notebooks',\n",
       " '/home/sh0416/anaconda3/envs/sentence-benchmark/lib/python38.zip',\n",
       " '/home/sh0416/anaconda3/envs/sentence-benchmark/lib/python3.8',\n",
       " '/home/sh0416/anaconda3/envs/sentence-benchmark/lib/python3.8/lib-dynload',\n",
       " '',\n",
       " '/home/sh0416/anaconda3/envs/sentence-benchmark/lib/python3.8/site-packages',\n",
       " '/home/sh0416/anaconda3/envs/sentence-benchmark/lib/python3.8/site-packages/IPython/extensions',\n",
       " '/home/sh0416/.ipython',\n",
       " '/home/sh0416/sentence-benchmark/src',\n",
       " '/home/sh0416/sentence-benchmark/src']"
      ]
     },
     "execution_count": 7,
     "metadata": {},
     "output_type": "execute_result"
    }
   ],
   "source": [
    "import os\n",
    "import sys\n",
    "rootpath = os.path.abspath(os.path.join(os.getcwd(), os.path.pardir, \"src\"))\n",
    "sys.path.append(os.path.join(rootpath, \"src\"))\n",
    "sys.path"
   ]
  },
  {
   "cell_type": "code",
   "execution_count": 6,
   "id": "a68ed151",
   "metadata": {},
   "outputs": [
    {
     "ename": "ModuleNotFoundError",
     "evalue": "No module named 'simcse'",
     "output_type": "error",
     "traceback": [
      "\u001b[0;31m---------------------------------------------------------------------------\u001b[0m",
      "\u001b[0;31mModuleNotFoundError\u001b[0m                       Traceback (most recent call last)",
      "\u001b[0;32m/tmp/ipykernel_38477/2882639650.py\u001b[0m in \u001b[0;36m<module>\u001b[0;34m\u001b[0m\n\u001b[0;32m----> 1\u001b[0;31m \u001b[0;32mfrom\u001b[0m \u001b[0msimcse\u001b[0m \u001b[0;32mimport\u001b[0m \u001b[0mmodels\u001b[0m\u001b[0;34m\u001b[0m\u001b[0;34m\u001b[0m\u001b[0m\n\u001b[0m",
      "\u001b[0;31mModuleNotFoundError\u001b[0m: No module named 'simcse'"
     ]
    }
   ],
   "source": [
    "from simcse import models"
   ]
  },
  {
   "cell_type": "code",
   "execution_count": null,
   "id": "5d62a419",
   "metadata": {},
   "outputs": [],
   "source": []
  }
 ],
 "metadata": {
  "kernelspec": {
   "display_name": "Python 3 (ipykernel)",
   "language": "python",
   "name": "python3"
  },
  "language_info": {
   "codemirror_mode": {
    "name": "ipython",
    "version": 3
   },
   "file_extension": ".py",
   "mimetype": "text/x-python",
   "name": "python",
   "nbconvert_exporter": "python",
   "pygments_lexer": "ipython3",
   "version": "3.8.11"
  }
 },
 "nbformat": 4,
 "nbformat_minor": 5
}
