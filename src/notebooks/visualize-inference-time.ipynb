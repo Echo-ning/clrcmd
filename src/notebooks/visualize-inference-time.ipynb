{
 "cells": [
  {
   "cell_type": "code",
   "execution_count": null,
   "id": "0aab8c20",
   "metadata": {},
   "outputs": [],
   "source": [
    "elapsed_time_simcse_avg = [129.73,259.7,408.47,515.73,675.99,798.70,927.99,1062.92,1218.94,1355.78,1491.94,\n",
    "1635.07, 1775.2,1911.58,2053.93,2203.13]\n",
    "elapsed_time_rwmdcse = [131.94, 263.11, 415.2, 525.44, 687.82, 815.51, 953.59, 1093.18, 1255.14, 1399.3,\n",
    "1540.53, 1692.34, 1840.85, 1994.23, 2147.12, 2303.45]\n",
    "sequence_length = list(range(8, 136, 8))\n",
    "print(sequence_length)"
   ]
  },
  {
   "cell_type": "code",
   "execution_count": null,
   "id": "a6bcf117",
   "metadata": {},
   "outputs": [],
   "source": [
    "import matplotlib.pyplot as plt\n",
    "plt.rcParams.update({'font.size': 16})\n",
    "fig, ax = plt.subplots(facecolor='white')\n",
    "rwmdcse = ax.plot(sequence_length, elapsed_time_rwmdcse, 'ro-', label=\"CLRCMD\")\n",
    "simcse_avg = ax.plot(sequence_length, elapsed_time_simcse_avg, 'bo-', label=\"SimCSE-avg\")\n",
    "ax.set_xlabel(\"sequence length (# of tokens)\")\n",
    "ax.set_ylabel(\"elapsed time (ms)\")\n",
    "ax.legend()\n",
    "plt.tight_layout()\n",
    "plt.savefig(\"inference_time.png\", dpi=200)"
   ]
  }
 ],
 "metadata": {
  "interpreter": {
   "hash": "2f7909bae7a7836eb6d38b485c3ed3a7cbc5b47c6aa07af5d14ef31db499d033"
  },
  "kernelspec": {
   "display_name": "Python 3.8.11 64-bit ('sentence-benchmark': conda)",
   "name": "python3"
  },
  "language_info": {
   "codemirror_mode": {
    "name": "ipython",
    "version": 3
   },
   "file_extension": ".py",
   "mimetype": "text/x-python",
   "name": "python",
   "nbconvert_exporter": "python",
   "pygments_lexer": "ipython3",
   "version": "3.8.11"
  }
 },
 "nbformat": 4,
 "nbformat_minor": 5
}
